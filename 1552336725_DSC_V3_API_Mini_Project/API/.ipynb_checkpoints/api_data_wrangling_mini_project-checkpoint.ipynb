{
 "cells": [
  {
   "cell_type": "markdown",
   "metadata": {},
   "source": [
    "This exercise will require you to pull some data from the Qunadl API. Qaundl is currently the most widely used aggregator of financial market data."
   ]
  },
  {
   "cell_type": "markdown",
   "metadata": {},
   "source": [
    "As a first step, you will need to register a free account on the http://www.quandl.com website."
   ]
  },
  {
   "cell_type": "markdown",
   "metadata": {},
   "source": [
    "After you register, you will be provided with a unique API key, that you should store:"
   ]
  },
  {
   "cell_type": "code",
   "execution_count": 34,
   "metadata": {},
   "outputs": [],
   "source": [
    "# Store the API key as a string - according to PEP8, constants are always named in all upper case\n",
    "API_KEY = ''"
   ]
  },
  {
   "cell_type": "markdown",
   "metadata": {},
   "source": [
    "Qaundl has a large number of data sources, but, unfortunately, most of them require a Premium subscription. Still, there are also a good number of free datasets."
   ]
  },
  {
   "cell_type": "markdown",
   "metadata": {},
   "source": [
    "For this mini project, we will focus on equities data from the Frankfurt Stock Exhange (FSE), which is available for free. We'll try and analyze the stock prices of a company called Carl Zeiss Meditec, which manufactures tools for eye examinations, as well as medical lasers for laser eye surgery: https://www.zeiss.com/meditec/int/home.html. The company is listed under the stock ticker AFX_X."
   ]
  },
  {
   "cell_type": "markdown",
   "metadata": {},
   "source": [
    "You can find the detailed Quandl API instructions here: https://docs.quandl.com/docs/time-series"
   ]
  },
  {
   "cell_type": "markdown",
   "metadata": {},
   "source": [
    "While there is a dedicated Python package for connecting to the Quandl API, we would prefer that you use the *requests* package, which can be easily downloaded using *pip* or *conda*. You can find the documentation for the package here: http://docs.python-requests.org/en/master/ "
   ]
  },
  {
   "cell_type": "markdown",
   "metadata": {},
   "source": [
    "Finally, apart from the *requests* package, you are encouraged to not use any third party Python packages, such as *pandas*, and instead focus on what's available in the Python Standard Library (the *collections* module might come in handy: https://pymotw.com/3/collections/ ).\n",
    "Also, since you won't have access to DataFrames, you are encouraged to us Python's native data structures - preferably dictionaries, though some questions can also be answered using lists.\n",
    "You can read more on these data structures here: https://docs.python.org/3/tutorial/datastructures.html"
   ]
  },
  {
   "cell_type": "markdown",
   "metadata": {},
   "source": [
    "Keep in mind that the JSON responses you will be getting from the API map almost one-to-one to Python's dictionaries. Unfortunately, they can be very nested, so make sure you read up on indexing dictionaries in the documentation provided above."
   ]
  },
  {
   "cell_type": "code",
   "execution_count": 35,
   "metadata": {},
   "outputs": [],
   "source": [
    "# First, import the relevant modules\n",
    "import requests\n"
   ]
  },
  {
   "cell_type": "code",
   "execution_count": 42,
   "metadata": {},
   "outputs": [],
   "source": [
    "# Now, call the Quandl API and pull out a small sample of the data (only one day) to get a glimpse\n",
    "# into the JSON structure that will be returned\n",
    "url = 'https://www.quandl.com/api/v3/datasets/XFRA/ADS?limit=1&api_key=' + API_KEY\n",
    "r = requests.get(url)\n",
    "json_data = r.json()\n",
    "\n",
    "# Other info if needed...\n",
    "# print(r.status_code)\n",
    "# print(r.headers['content-type'])\n",
    "# print(r.encoding)\n",
    "# print(r.text)"
   ]
  },
  {
   "cell_type": "code",
   "execution_count": 43,
   "metadata": {},
   "outputs": [
    {
     "data": {
      "text/plain": [
       "{'dataset': {'id': 46112467,\n",
       "  'dataset_code': 'ADS',\n",
       "  'database_code': 'XFRA',\n",
       "  'name': 'Adidas AG (ADS) Adjusted Stock Prices',\n",
       "  'description': ' <b>Ticker</b>: ADS <br> <br> <b>Exchange</b>: XFRA <br> <br> Columns: <br> <br> Open,High,Low,Close,Volume are adjusted and shown in EUR currency. <br> <br> Adjustment Factor shows the factor by which prices are adjusted on days which adjustments take place <br> <br> Adjustment Type is a number representing the type of adjustment. Refer to documentation for more information on these codes.',\n",
       "  'refreshed_at': '2021-05-15T05:20:48.772Z',\n",
       "  'newest_available_date': '2018-11-30',\n",
       "  'oldest_available_date': '2007-01-02',\n",
       "  'column_names': ['Date',\n",
       "   'Open',\n",
       "   'High',\n",
       "   'Low',\n",
       "   'Close',\n",
       "   'Volume',\n",
       "   'Adjustment Factor',\n",
       "   'Adjustment Type'],\n",
       "  'frequency': 'daily',\n",
       "  'type': 'Time Series',\n",
       "  'premium': True,\n",
       "  'limit': 1,\n",
       "  'transform': None,\n",
       "  'column_index': None,\n",
       "  'start_date': '2007-01-02',\n",
       "  'end_date': '2018-11-30',\n",
       "  'data': [['2018-11-30',\n",
       "    193.385632,\n",
       "    193.483252,\n",
       "    188.699862,\n",
       "    190.554646,\n",
       "    2702.0,\n",
       "    None,\n",
       "    None]],\n",
       "  'collapse': None,\n",
       "  'order': None,\n",
       "  'database_id': 15302}}"
      ]
     },
     "execution_count": 43,
     "metadata": {},
     "output_type": "execute_result"
    }
   ],
   "source": [
    "# Inspect the JSON structure of the object you created, and take note of how nested it is,\n",
    "# as well as the overall structure\n",
    "json_data"
   ]
  },
  {
   "cell_type": "markdown",
   "metadata": {},
   "source": [
    "These are your tasks for this mini project:\n",
    "\n",
    "1. Collect data from the Frankfurt Stock Exchange, for the ticker AFX_X, for the whole year 2017 (keep in mind that the date format is YYYY-MM-DD).\n",
    "2. Convert the returned JSON object into a Python dictionary.\n",
    "3. Calculate what the highest and lowest opening prices were for the stock in this period.\n",
    "4. What was the largest change in any one day (based on High and Low price)?\n",
    "5. What was the largest change between any two days (based on Closing Price)?\n",
    "6. What was the average daily trading volume during this year?\n",
    "7. (Optional) What was the median trading volume during this year. (Note: you may need to implement your own function for calculating the median.)"
   ]
  },
  {
   "cell_type": "markdown",
   "metadata": {
    "collapsed": true
   },
   "source": [
    "## 1. Collect data from the Frankfurt Stock Exchange, for the ticker ADS, for 2017\n",
    "\n",
    "NOTE: I received an error while trying to access the ticker referenced above (AFX_X) indicating the the data is unavailable without subscription. The remainder of the notebook is based on data for Adidas (ADS)."
   ]
  },
  {
   "cell_type": "code",
   "execution_count": 53,
   "metadata": {},
   "outputs": [],
   "source": [
    "url = 'https://www.quandl.com/api/v3/datasets/XFRA/ADS/data.json?start_date=2017-01-01&end_date=2017-12-31&api_key=' + API_KEY\n",
    "r = requests.get(url)"
   ]
  },
  {
   "cell_type": "markdown",
   "metadata": {},
   "source": [
    "## 2. Convert the returned JSON object into a Python dictionary"
   ]
  },
  {
   "cell_type": "code",
   "execution_count": 54,
   "metadata": {},
   "outputs": [],
   "source": [
    "json_data = r.json()"
   ]
  },
  {
   "cell_type": "markdown",
   "metadata": {},
   "source": [
    "## 3. Calculate what the highest and lowest opening prices were for the stock in this period"
   ]
  },
  {
   "cell_type": "code",
   "execution_count": 65,
   "metadata": {},
   "outputs": [
    {
     "name": "stdout",
     "output_type": "stream",
     "text": [
      "limit\n",
      "transform\n",
      "column_index\n",
      "column_names\n",
      "start_date\n",
      "end_date\n",
      "frequency\n",
      "data\n",
      "collapse\n",
      "order\n"
     ]
    }
   ],
   "source": [
    "for key in json_data['dataset_data'].keys():\n",
    "    print(key)"
   ]
  },
  {
   "cell_type": "code",
   "execution_count": 72,
   "metadata": {},
   "outputs": [
    {
     "name": "stdout",
     "output_type": "stream",
     "text": [
      "The highest opening price was $191.92\n",
      "The lowest opening price was $137.31\n"
     ]
    }
   ],
   "source": [
    "# Create list of opening prices\n",
    "opens = []\n",
    "\n",
    "# Loop through data to extract opening price and append to list\n",
    "for item in json_data['dataset_data']['data']:\n",
    "    opens.append(item[1])\n",
    "    \n",
    "# Print the highest and lowest opening prices for 2017 \n",
    "print(\"The highest opening price was $\" + str(round(max(opens), 2)))\n",
    "print(\"The lowest opening price was $\" + str(round(min(opens), 2)))"
   ]
  },
  {
   "cell_type": "markdown",
   "metadata": {},
   "source": [
    "## 4. What was the largest change in any one day (based on High and Low price)?"
   ]
  },
  {
   "cell_type": "code",
   "execution_count": 73,
   "metadata": {},
   "outputs": [
    {
     "name": "stdout",
     "output_type": "stream",
     "text": [
      "The largest change in price for any one day was $9.19\n"
     ]
    }
   ],
   "source": [
    "# Create list of absolute price changes for each day\n",
    "abs_changes = []\n",
    "\n",
    "# Loop through data to calculate absolute change in price and append to list\n",
    "for item in json_data['dataset_data']['data']:\n",
    "    abs_changes.append(abs(item[1] - item[2]))\n",
    "\n",
    "# Print the largest change in price for any one day\n",
    "print(\"The largest change in price for any one day was $\" + str(round(max(abs_changes), 2)))"
   ]
  },
  {
   "cell_type": "markdown",
   "metadata": {},
   "source": [
    "## 5. What was the largest change between any two days (based on Closing Price)?"
   ]
  },
  {
   "cell_type": "code",
   "execution_count": 78,
   "metadata": {},
   "outputs": [
    {
     "name": "stdout",
     "output_type": "stream",
     "text": [
      "The largest change in price for any two consecutive days was $13.41\n"
     ]
    }
   ],
   "source": [
    "# Create list of closing prices\n",
    "closes = []\n",
    "\n",
    "# Loop through data to extract closing price and append to list\n",
    "for item in json_data['dataset_data']['data']:\n",
    "    closes.append(item[2])\n",
    "\n",
    "# Loop through list and calculate largest absolute change from one day to the next\n",
    "largest_change = 0\n",
    "\n",
    "for i in range(len(closes) - 1):\n",
    "    if abs(closes[i]-closes[i+1]) > largest_change:\n",
    "        largest_change = abs(closes[i]-closes[i+1])\n",
    "\n",
    "# Print the largest change in price between any two consecutive days\n",
    "print(\"The largest change in price for any two consecutive days was $\" + str(round(largest_change, 2)))"
   ]
  },
  {
   "cell_type": "markdown",
   "metadata": {},
   "source": [
    "## 6. What was the average daily trading volume during this year?"
   ]
  },
  {
   "cell_type": "code",
   "execution_count": 88,
   "metadata": {},
   "outputs": [
    {
     "name": "stdout",
     "output_type": "stream",
     "text": [
      "The average daily trading volume was 1638.32\n"
     ]
    }
   ],
   "source": [
    "# Create list of daily volumes\n",
    "volumes = []\n",
    "\n",
    "# Loop through data to extract daily volume and append to list\n",
    "for item in json_data['dataset_data']['data']:\n",
    "    volumes.append(item[5])\n",
    "\n",
    "# Print the average daily trading volume\n",
    "print(\"The average daily trading volume was \" + str(round((sum(volumes) / len(volumes)), 2)))"
   ]
  },
  {
   "cell_type": "markdown",
   "metadata": {},
   "source": [
    "## 7. What was the median trading volume during this year?"
   ]
  },
  {
   "cell_type": "code",
   "execution_count": 115,
   "metadata": {},
   "outputs": [
    {
     "name": "stdout",
     "output_type": "stream",
     "text": [
      "The median trading volume for 2017 was 1729.5\n"
     ]
    }
   ],
   "source": [
    "# Define function for calculating median\n",
    "def find_median(int_list):\n",
    "    \"\"\"Calculate the median from a list of integers\n",
    "    \"\"\"\n",
    "    sorted_list = sorted(int_list)\n",
    "    len_list = len(int_list)\n",
    "    if len_list % 2 == 0:\n",
    "        median = (sorted_list[int(len_list / 2)] + sorted_list[int(((len_list / 2) + 1))] / 2)\n",
    "    else:\n",
    "        median = sorted_list[(round(len_list / 2) + 1)]\n",
    "    \n",
    "    return median\n",
    "\n",
    "# Calculate and print median volume\n",
    "median_volume = find_median(volumes)\n",
    "print(\"The median trading volume for 2017 was \" + str(median_volume))"
   ]
  }
 ],
 "metadata": {
  "kernelspec": {
   "display_name": "Python 3",
   "language": "python",
   "name": "python3"
  },
  "language_info": {
   "codemirror_mode": {
    "name": "ipython",
    "version": 3
   },
   "file_extension": ".py",
   "mimetype": "text/x-python",
   "name": "python",
   "nbconvert_exporter": "python",
   "pygments_lexer": "ipython3",
   "version": "3.7.6"
  }
 },
 "nbformat": 4,
 "nbformat_minor": 2
}
